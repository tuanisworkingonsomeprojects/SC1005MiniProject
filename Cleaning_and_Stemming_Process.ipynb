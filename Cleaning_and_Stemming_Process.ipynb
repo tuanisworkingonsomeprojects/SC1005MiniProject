{
 "cells": [
  {
   "cell_type": "markdown",
   "metadata": {
    "id": "gw5foylj8GIw"
   },
   "source": [
    "# Import Necessary Libraries"
   ]
  },
  {
   "cell_type": "code",
   "execution_count": 1,
   "metadata": {
    "colab": {
     "base_uri": "https://localhost:8080/"
    },
    "executionInfo": {
     "elapsed": 5033,
     "status": "ok",
     "timestamp": 1680011092543,
     "user": {
      "displayName": "TUAN NGUYEN",
      "userId": "18359140716316691622"
     },
     "user_tz": -480
    },
    "id": "THL-16zgjseK",
    "outputId": "b5443888-0e7f-4a1e-fd44-506d1c699744"
   },
   "outputs": [
    {
     "name": "stderr",
     "output_type": "stream",
     "text": [
      "[nltk_data] Downloading package stopwords to\n",
      "[nltk_data]     C:\\Users\\Tuan3\\AppData\\Roaming\\nltk_data...\n",
      "[nltk_data]   Package stopwords is already up-to-date!\n",
      "[nltk_data] Downloading package punkt to\n",
      "[nltk_data]     C:\\Users\\Tuan3\\AppData\\Roaming\\nltk_data...\n",
      "[nltk_data]   Package punkt is already up-to-date!\n",
      "[nltk_data] Downloading package wordnet to\n",
      "[nltk_data]     C:\\Users\\Tuan3\\AppData\\Roaming\\nltk_data...\n",
      "[nltk_data]   Package wordnet is already up-to-date!\n",
      "[nltk_data] Downloading package omw-1.4 to\n",
      "[nltk_data]     C:\\Users\\Tuan3\\AppData\\Roaming\\nltk_data...\n",
      "[nltk_data]   Package omw-1.4 is already up-to-date!\n",
      "[nltk_data] Downloading package porter_test to\n",
      "[nltk_data]     C:\\Users\\Tuan3\\AppData\\Roaming\\nltk_data...\n",
      "[nltk_data]   Package porter_test is already up-to-date!\n"
     ]
    }
   ],
   "source": [
    "import numpy as np \n",
    "import pandas as pd \n",
    "import seaborn as sb\n",
    "from matplotlib import style \n",
    "import matplotlib.pyplot as plt \n",
    "import plotly.express as py \n",
    "style.use('ggplot')\n",
    "\n",
    "import re\n",
    "\n",
    "import nltk \n",
    "nltk.download('stopwords') \n",
    "nltk.download('punkt') \n",
    "nltk.download('wordnet')\n",
    "nltk.download('omw-1.4')\n",
    "nltk.download('porter_test')\n",
    "from nltk.tokenize import word_tokenize \n",
    "from nltk.stem import PorterStemmer\n",
    "from nltk.stem import WordNetLemmatizer\n",
    "from nltk.corpus import stopwords\n",
    "from nltk.tokenize import word_tokenize\n",
    "stop_words = set(stopwords.words(\"english\"))\n",
    "\n",
    "from pathlib import Path"
   ]
  },
  {
   "cell_type": "markdown",
   "metadata": {
    "id": "U9eYPa3h8NPt"
   },
   "source": [
    "# Read Data"
   ]
  },
  {
   "cell_type": "code",
   "execution_count": 2,
   "metadata": {
    "colab": {
     "base_uri": "https://localhost:8080/",
     "height": 206
    },
    "executionInfo": {
     "elapsed": 791,
     "status": "ok",
     "timestamp": 1680010875348,
     "user": {
      "displayName": "TUAN NGUYEN",
      "userId": "18359140716316691622"
     },
     "user_tz": -480
    },
    "id": "Mj5VWS4Esa5w",
    "outputId": "62d65021-0b59-43bc-f684-1459adfa1f83"
   },
   "outputs": [
    {
     "data": {
      "text/html": [
       "<div>\n",
       "<style scoped>\n",
       "    .dataframe tbody tr th:only-of-type {\n",
       "        vertical-align: middle;\n",
       "    }\n",
       "\n",
       "    .dataframe tbody tr th {\n",
       "        vertical-align: top;\n",
       "    }\n",
       "\n",
       "    .dataframe thead th {\n",
       "        text-align: right;\n",
       "    }\n",
       "</style>\n",
       "<table border=\"1\" class=\"dataframe\">\n",
       "  <thead>\n",
       "    <tr style=\"text-align: right;\">\n",
       "      <th></th>\n",
       "      <th>text</th>\n",
       "      <th>sentiment</th>\n",
       "    </tr>\n",
       "  </thead>\n",
       "  <tbody>\n",
       "    <tr>\n",
       "      <th>0</th>\n",
       "      <td>My daughter liked it but I was aghast, that a ...</td>\n",
       "      <td>neg</td>\n",
       "    </tr>\n",
       "    <tr>\n",
       "      <th>1</th>\n",
       "      <td>I... No words. No words can describe this. I w...</td>\n",
       "      <td>neg</td>\n",
       "    </tr>\n",
       "    <tr>\n",
       "      <th>2</th>\n",
       "      <td>this film is basically a poor take on the old ...</td>\n",
       "      <td>neg</td>\n",
       "    </tr>\n",
       "    <tr>\n",
       "      <th>3</th>\n",
       "      <td>This is a terrible movie, and I'm not even sur...</td>\n",
       "      <td>neg</td>\n",
       "    </tr>\n",
       "    <tr>\n",
       "      <th>4</th>\n",
       "      <td>First of all this movie is a piece of reality ...</td>\n",
       "      <td>pos</td>\n",
       "    </tr>\n",
       "  </tbody>\n",
       "</table>\n",
       "</div>"
      ],
      "text/plain": [
       "                                                text sentiment\n",
       "0  My daughter liked it but I was aghast, that a ...       neg\n",
       "1  I... No words. No words can describe this. I w...       neg\n",
       "2  this film is basically a poor take on the old ...       neg\n",
       "3  This is a terrible movie, and I'm not even sur...       neg\n",
       "4  First of all this movie is a piece of reality ...       pos"
      ]
     },
     "execution_count": 2,
     "metadata": {},
     "output_type": "execute_result"
    }
   ],
   "source": [
    "df = pd.read_csv(\"data/test.csv\")\n",
    "df.head()"
   ]
  },
  {
   "cell_type": "markdown",
   "metadata": {
    "id": "-HONw2I18ShG"
   },
   "source": [
    "# Viewing the distribution of the data"
   ]
  },
  {
   "cell_type": "code",
   "execution_count": 3,
   "metadata": {
    "colab": {
     "base_uri": "https://localhost:8080/",
     "height": 456
    },
    "executionInfo": {
     "elapsed": 11,
     "status": "ok",
     "timestamp": 1680010875349,
     "user": {
      "displayName": "TUAN NGUYEN",
      "userId": "18359140716316691622"
     },
     "user_tz": -480
    },
    "id": "h2WjF0wUw1uV",
    "outputId": "6a2b36b2-9ce3-430e-91aa-c52b5c2a2bcd"
   },
   "outputs": [
    {
     "name": "stdout",
     "output_type": "stream",
     "text": [
      "<class 'pandas.core.frame.DataFrame'>\n",
      "RangeIndex: 25000 entries, 0 to 24999\n",
      "Data columns (total 2 columns):\n",
      " #   Column     Non-Null Count  Dtype \n",
      "---  ------     --------------  ----- \n",
      " 0   text       25000 non-null  object\n",
      " 1   sentiment  25000 non-null  object\n",
      "dtypes: object(2)\n",
      "memory usage: 390.8+ KB\n"
     ]
    },
    {
     "data": {
      "text/plain": [
       "<AxesSubplot:xlabel='sentiment', ylabel='count'>"
      ]
     },
     "execution_count": 3,
     "metadata": {},
     "output_type": "execute_result"
    },
    {
     "data": {
      "image/png": "[encoded data removed]",
      "text/plain": [
       "<Figure size 640x480 with 1 Axes>"
      ]
     },
     "metadata": {},
     "output_type": "display_data"
    }
   ],
   "source": [
    "# Count the number of positive and negative reviews\n",
    "df.info()\n",
    "sb.countplot(x = \"sentiment\", data = df)"
   ]
  },
  {
   "cell_type": "code",
   "execution_count": 4,
   "metadata": {
    "colab": {
     "base_uri": "https://localhost:8080/"
    },
    "executionInfo": {
     "elapsed": 1368,
     "status": "ok",
     "timestamp": 1680010876710,
     "user": {
      "displayName": "TUAN NGUYEN",
      "userId": "18359140716316691622"
     },
     "user_tz": -480
    },
    "id": "0yVO1MqJTzL-",
    "outputId": "585ac48f-ad31-4e0b-c885-7effdcc342e5"
   },
   "outputs": [
    {
     "name": "stdout",
     "output_type": "stream",
     "text": [
      "neg    12500\n",
      "pos    12500\n",
      "Name: sentiment, dtype: int64\n"
     ]
    }
   ],
   "source": [
    "print(df['sentiment'].value_counts())"
   ]
  },
  {
   "cell_type": "code",
   "execution_count": 5,
   "metadata": {
    "id": "U4vxFMICxH6y"
   },
   "outputs": [],
   "source": [
    "# Adding an additional column that counts the number of words in each review\n",
    "def word_count(text): \n",
    "    word_arr = text.split()\n",
    "    i = 0\n",
    "    for w in word_arr:\n",
    "        i += 1\n",
    "    return i"
   ]
  },
  {
   "cell_type": "code",
   "execution_count": 6,
   "metadata": {
    "colab": {
     "base_uri": "https://localhost:8080/",
     "height": 206
    },
    "executionInfo": {
     "elapsed": 9,
     "status": "ok",
     "timestamp": 1680010876711,
     "user": {
      "displayName": "TUAN NGUYEN",
      "userId": "18359140716316691622"
     },
     "user_tz": -480
    },
    "id": "WJmScKuGymSY",
    "outputId": "5690fcfe-12ee-442f-9c57-c3f1ec8879ce"
   },
   "outputs": [
    {
     "data": {
      "text/html": [
       "<div>\n",
       "<style scoped>\n",
       "    .dataframe tbody tr th:only-of-type {\n",
       "        vertical-align: middle;\n",
       "    }\n",
       "\n",
       "    .dataframe tbody tr th {\n",
       "        vertical-align: top;\n",
       "    }\n",
       "\n",
       "    .dataframe thead th {\n",
       "        text-align: right;\n",
       "    }\n",
       "</style>\n",
       "<table border=\"1\" class=\"dataframe\">\n",
       "  <thead>\n",
       "    <tr style=\"text-align: right;\">\n",
       "      <th></th>\n",
       "      <th>text</th>\n",
       "      <th>sentiment</th>\n",
       "      <th>word_count</th>\n",
       "    </tr>\n",
       "  </thead>\n",
       "  <tbody>\n",
       "    <tr>\n",
       "      <th>0</th>\n",
       "      <td>My daughter liked it but I was aghast, that a ...</td>\n",
       "      <td>neg</td>\n",
       "      <td>142</td>\n",
       "    </tr>\n",
       "    <tr>\n",
       "      <th>1</th>\n",
       "      <td>I... No words. No words can describe this. I w...</td>\n",
       "      <td>neg</td>\n",
       "      <td>325</td>\n",
       "    </tr>\n",
       "    <tr>\n",
       "      <th>2</th>\n",
       "      <td>this film is basically a poor take on the old ...</td>\n",
       "      <td>neg</td>\n",
       "      <td>131</td>\n",
       "    </tr>\n",
       "    <tr>\n",
       "      <th>3</th>\n",
       "      <td>This is a terrible movie, and I'm not even sur...</td>\n",
       "      <td>neg</td>\n",
       "      <td>156</td>\n",
       "    </tr>\n",
       "    <tr>\n",
       "      <th>4</th>\n",
       "      <td>First of all this movie is a piece of reality ...</td>\n",
       "      <td>pos</td>\n",
       "      <td>173</td>\n",
       "    </tr>\n",
       "  </tbody>\n",
       "</table>\n",
       "</div>"
      ],
      "text/plain": [
       "                                                text sentiment  word_count\n",
       "0  My daughter liked it but I was aghast, that a ...       neg         142\n",
       "1  I... No words. No words can describe this. I w...       neg         325\n",
       "2  this film is basically a poor take on the old ...       neg         131\n",
       "3  This is a terrible movie, and I'm not even sur...       neg         156\n",
       "4  First of all this movie is a piece of reality ...       pos         173"
      ]
     },
     "execution_count": 6,
     "metadata": {},
     "output_type": "execute_result"
    }
   ],
   "source": [
    "df['word_count'] = df['text'].apply(word_count)\n",
    "df.head()"
   ]
  },
  {
   "cell_type": "code",
   "execution_count": 7,
   "metadata": {
    "colab": {
     "base_uri": "https://localhost:8080/",
     "height": 434
    },
    "executionInfo": {
     "elapsed": 344,
     "status": "ok",
     "timestamp": 1680010877047,
     "user": {
      "displayName": "TUAN NGUYEN",
      "userId": "18359140716316691622"
     },
     "user_tz": -480
    },
    "id": "lwciaWSdzBSp",
    "outputId": "c25b235b-86b0-4676-ce68-ef63621ee0f7"
   },
   "outputs": [
    {
     "data": {
      "text/plain": [
       "Text(0.5, 0.98, 'Word count of movie sentiments')"
      ]
     },
     "execution_count": 7,
     "metadata": {},
     "output_type": "execute_result"
    },
    {
     "data": {
      "image/png": "[encoded data removed]",
      "text/plain": [
       "<Figure size 1000x600 with 2 Axes>"
      ]
     },
     "metadata": {},
     "output_type": "display_data"
    }
   ],
   "source": [
    "# Plotting a histogram on the word count\n",
    "fig, ax = plt.subplots(1, 2, figsize = (10, 6))\n",
    "ax[0].hist(df[df['sentiment'] == 'pos']['word_count'], label = 'Positive', color = 'blue', rwidth = 0.9)\n",
    "ax[0].legend(loc = 'upper right')\n",
    "ax[1].hist(df[df['sentiment'] == 'neg']['word_count'], label = 'Negative', color = 'red', rwidth = 0.9)\n",
    "ax[1].legend(loc = 'upper right')\n",
    "fig.suptitle(\"Word count of movie sentiments\")"
   ]
  },
  {
   "cell_type": "code",
   "execution_count": 8,
   "metadata": {
    "colab": {
     "base_uri": "https://localhost:8080/",
     "height": 206
    },
    "executionInfo": {
     "elapsed": 9,
     "status": "ok",
     "timestamp": 1680010877047,
     "user": {
      "displayName": "TUAN NGUYEN",
      "userId": "18359140716316691622"
     },
     "user_tz": -480
    },
    "id": "iKcSMbVq1djE",
    "outputId": "3a2eec6e-1374-415f-919f-8e7e179ceed3"
   },
   "outputs": [
    {
     "data": {
      "text/html": [
       "<div>\n",
       "<style scoped>\n",
       "    .dataframe tbody tr th:only-of-type {\n",
       "        vertical-align: middle;\n",
       "    }\n",
       "\n",
       "    .dataframe tbody tr th {\n",
       "        vertical-align: top;\n",
       "    }\n",
       "\n",
       "    .dataframe thead th {\n",
       "        text-align: right;\n",
       "    }\n",
       "</style>\n",
       "<table border=\"1\" class=\"dataframe\">\n",
       "  <thead>\n",
       "    <tr style=\"text-align: right;\">\n",
       "      <th></th>\n",
       "      <th>text</th>\n",
       "      <th>sentiment</th>\n",
       "      <th>word_count</th>\n",
       "    </tr>\n",
       "  </thead>\n",
       "  <tbody>\n",
       "    <tr>\n",
       "      <th>0</th>\n",
       "      <td>My daughter liked it but I was aghast, that a ...</td>\n",
       "      <td>1</td>\n",
       "      <td>142</td>\n",
       "    </tr>\n",
       "    <tr>\n",
       "      <th>1</th>\n",
       "      <td>I... No words. No words can describe this. I w...</td>\n",
       "      <td>1</td>\n",
       "      <td>325</td>\n",
       "    </tr>\n",
       "    <tr>\n",
       "      <th>2</th>\n",
       "      <td>this film is basically a poor take on the old ...</td>\n",
       "      <td>1</td>\n",
       "      <td>131</td>\n",
       "    </tr>\n",
       "    <tr>\n",
       "      <th>3</th>\n",
       "      <td>This is a terrible movie, and I'm not even sur...</td>\n",
       "      <td>1</td>\n",
       "      <td>156</td>\n",
       "    </tr>\n",
       "    <tr>\n",
       "      <th>4</th>\n",
       "      <td>First of all this movie is a piece of reality ...</td>\n",
       "      <td>2</td>\n",
       "      <td>173</td>\n",
       "    </tr>\n",
       "  </tbody>\n",
       "</table>\n",
       "</div>"
      ],
      "text/plain": [
       "                                                text  sentiment  word_count\n",
       "0  My daughter liked it but I was aghast, that a ...          1         142\n",
       "1  I... No words. No words can describe this. I w...          1         325\n",
       "2  this film is basically a poor take on the old ...          1         131\n",
       "3  This is a terrible movie, and I'm not even sur...          1         156\n",
       "4  First of all this movie is a piece of reality ...          2         173"
      ]
     },
     "execution_count": 8,
     "metadata": {},
     "output_type": "execute_result"
    }
   ],
   "source": [
    "# Vectorisation of binary sentiment\n",
    "# positive = 2 ; negative = 1\n",
    "df.sentiment.replace(\"pos\", 2, inplace = True)\n",
    "df.sentiment.replace(\"neg\", 1, inplace = True)\n",
    "df.head()"
   ]
  },
  {
   "cell_type": "markdown",
   "metadata": {
    "id": "ybhdA9pB8dDK"
   },
   "source": [
    "# Cleaning up of the data"
   ]
  },
  {
   "cell_type": "markdown",
   "metadata": {
    "id": "TEiPiizUiEu9"
   },
   "source": [
    "In the data, there are numerous text features that we do not want. So we create a function to remove `'<br />'`, `'.'`, `','`, `'!'`, `'?'`, `'\"'`, `':'`, `'('`, `')'`, `'*'`, `stopwords`, `URLs`, `'#'` and `'@'` symbols. Moreover, we have to change the text to lowercase as well."
   ]
  },
  {
   "cell_type": "code",
   "execution_count": 9,
   "metadata": {
    "id": "rQBouyZD2gq-"
   },
   "outputs": [],
   "source": [
    "def cleaning(text):\n",
    "    text = text.lower() # change to lowercase\n",
    "    text = re.sub('<br />', '', text)\n",
    "    text = re.sub(r'[^\\w\\s]', '', text)\n",
    "    text = re.sub(r\"https\\S+|www\\S+|http\\S+\", '', text, flags = re.MULTILINE)\n",
    "    text = re.sub(r'\\@w+|\\#', '', text)\n",
    "    text_tokens = word_tokenize(text)\n",
    "    filtered_tokens = []\n",
    "    for w in text_tokens:\n",
    "        if not w in stop_words or w == 'not':\n",
    "            filtered_tokens.append(w)\n",
    "    return \" \".join(filtered_tokens)"
   ]
  },
  {
   "cell_type": "code",
   "execution_count": 10,
   "metadata": {
    "colab": {
     "base_uri": "https://localhost:8080/",
     "height": 206
    },
    "executionInfo": {
     "elapsed": 27996,
     "status": "ok",
     "timestamp": 1680010905036,
     "user": {
      "displayName": "TUAN NGUYEN",
      "userId": "18359140716316691622"
     },
     "user_tz": -480
    },
    "id": "xm1BA6Sy55xM",
    "outputId": "ab6903fe-749a-481f-cd5d-acae5eb0b417"
   },
   "outputs": [
    {
     "data": {
      "text/html": [
       "<div>\n",
       "<style scoped>\n",
       "    .dataframe tbody tr th:only-of-type {\n",
       "        vertical-align: middle;\n",
       "    }\n",
       "\n",
       "    .dataframe tbody tr th {\n",
       "        vertical-align: top;\n",
       "    }\n",
       "\n",
       "    .dataframe thead th {\n",
       "        text-align: right;\n",
       "    }\n",
       "</style>\n",
       "<table border=\"1\" class=\"dataframe\">\n",
       "  <thead>\n",
       "    <tr style=\"text-align: right;\">\n",
       "      <th></th>\n",
       "      <th>text</th>\n",
       "      <th>sentiment</th>\n",
       "      <th>word_count</th>\n",
       "    </tr>\n",
       "  </thead>\n",
       "  <tbody>\n",
       "    <tr>\n",
       "      <th>0</th>\n",
       "      <td>daughter liked aghast character movie smokes i...</td>\n",
       "      <td>1</td>\n",
       "      <td>142</td>\n",
       "    </tr>\n",
       "    <tr>\n",
       "      <th>1</th>\n",
       "      <td>words words describe try sake brave people sti...</td>\n",
       "      <td>1</td>\n",
       "      <td>325</td>\n",
       "    </tr>\n",
       "    <tr>\n",
       "      <th>2</th>\n",
       "      <td>film basically poor take old urban legend baby...</td>\n",
       "      <td>1</td>\n",
       "      <td>131</td>\n",
       "    </tr>\n",
       "    <tr>\n",
       "      <th>3</th>\n",
       "      <td>terrible movie im not even sure terrible ugly ...</td>\n",
       "      <td>1</td>\n",
       "      <td>156</td>\n",
       "    </tr>\n",
       "    <tr>\n",
       "      <th>4</th>\n",
       "      <td>first movie piece reality well realized artist...</td>\n",
       "      <td>2</td>\n",
       "      <td>173</td>\n",
       "    </tr>\n",
       "  </tbody>\n",
       "</table>\n",
       "</div>"
      ],
      "text/plain": [
       "                                                text  sentiment  word_count\n",
       "0  daughter liked aghast character movie smokes i...          1         142\n",
       "1  words words describe try sake brave people sti...          1         325\n",
       "2  film basically poor take old urban legend baby...          1         131\n",
       "3  terrible movie im not even sure terrible ugly ...          1         156\n",
       "4  first movie piece reality well realized artist...          2         173"
      ]
     },
     "execution_count": 10,
     "metadata": {},
     "output_type": "execute_result"
    }
   ],
   "source": [
    "df.text = df['text'].apply(cleaning)\n",
    "df.head()"
   ]
  },
  {
   "cell_type": "code",
   "execution_count": 11,
   "metadata": {
    "colab": {
     "base_uri": "https://localhost:8080/",
     "height": 206
    },
    "executionInfo": {
     "elapsed": 12,
     "status": "ok",
     "timestamp": 1680010905036,
     "user": {
      "displayName": "TUAN NGUYEN",
      "userId": "18359140716316691622"
     },
     "user_tz": -480
    },
    "id": "5hXVR3mK6OSI",
    "outputId": "8f5c9c9f-ac34-49f0-d189-863f69940518"
   },
   "outputs": [
    {
     "data": {
      "text/html": [
       "<div>\n",
       "<style scoped>\n",
       "    .dataframe tbody tr th:only-of-type {\n",
       "        vertical-align: middle;\n",
       "    }\n",
       "\n",
       "    .dataframe tbody tr th {\n",
       "        vertical-align: top;\n",
       "    }\n",
       "\n",
       "    .dataframe thead th {\n",
       "        text-align: right;\n",
       "    }\n",
       "</style>\n",
       "<table border=\"1\" class=\"dataframe\">\n",
       "  <thead>\n",
       "    <tr style=\"text-align: right;\">\n",
       "      <th></th>\n",
       "      <th>text</th>\n",
       "      <th>sentiment</th>\n",
       "      <th>word_count</th>\n",
       "    </tr>\n",
       "  </thead>\n",
       "  <tbody>\n",
       "    <tr>\n",
       "      <th>0</th>\n",
       "      <td>daughter liked aghast character movie smokes i...</td>\n",
       "      <td>1</td>\n",
       "      <td>142</td>\n",
       "    </tr>\n",
       "    <tr>\n",
       "      <th>1</th>\n",
       "      <td>words words describe try sake brave people sti...</td>\n",
       "      <td>1</td>\n",
       "      <td>325</td>\n",
       "    </tr>\n",
       "    <tr>\n",
       "      <th>2</th>\n",
       "      <td>film basically poor take old urban legend baby...</td>\n",
       "      <td>1</td>\n",
       "      <td>131</td>\n",
       "    </tr>\n",
       "    <tr>\n",
       "      <th>3</th>\n",
       "      <td>terrible movie im not even sure terrible ugly ...</td>\n",
       "      <td>1</td>\n",
       "      <td>156</td>\n",
       "    </tr>\n",
       "    <tr>\n",
       "      <th>4</th>\n",
       "      <td>first movie piece reality well realized artist...</td>\n",
       "      <td>2</td>\n",
       "      <td>173</td>\n",
       "    </tr>\n",
       "  </tbody>\n",
       "</table>\n",
       "</div>"
      ],
      "text/plain": [
       "                                                text  sentiment  word_count\n",
       "0  daughter liked aghast character movie smokes i...          1         142\n",
       "1  words words describe try sake brave people sti...          1         325\n",
       "2  film basically poor take old urban legend baby...          1         131\n",
       "3  terrible movie im not even sure terrible ugly ...          1         156\n",
       "4  first movie piece reality well realized artist...          2         173"
      ]
     },
     "execution_count": 11,
     "metadata": {},
     "output_type": "execute_result"
    }
   ],
   "source": [
    "# Remove duplicated entries\n",
    "df = df.drop_duplicates('text')\n",
    "df.head()"
   ]
  },
  {
   "cell_type": "code",
   "execution_count": 12,
   "metadata": {
    "colab": {
     "base_uri": "https://localhost:8080/"
    },
    "executionInfo": {
     "elapsed": 10,
     "status": "ok",
     "timestamp": 1680010905037,
     "user": {
      "displayName": "TUAN NGUYEN",
      "userId": "18359140716316691622"
     },
     "user_tz": -480
    },
    "id": "KeAZPLJJqB6i",
    "outputId": "c4093a47-999b-4ae6-c590-840b16657925"
   },
   "outputs": [
    {
     "name": "stdout",
     "output_type": "stream",
     "text": [
      "2    12439\n",
      "1    12360\n",
      "Name: sentiment, dtype: int64\n"
     ]
    }
   ],
   "source": [
    "# Count the remaining unique entries\n",
    "print(df['sentiment'].value_counts())"
   ]
  },
  {
   "cell_type": "code",
   "execution_count": 13,
   "metadata": {
    "id": "5tcN7JRA868Z"
   },
   "outputs": [],
   "source": [
    "# Stemming of the data (the process of reducing a word to its root form)\n",
    "def stem(text):\n",
    "    stemmer = PorterStemmer()\n",
    "    tokens = word_tokenize(text)\n",
    "    words = [stemmer.stem(word) for word in tokens]\n",
    "    data = \" \".join(words)\n",
    "    return data"
   ]
  },
  {
   "cell_type": "code",
   "execution_count": 14,
   "metadata": {
    "id": "8sJ_9V4C_ZbM"
   },
   "outputs": [],
   "source": [
    "cells = [stem(x) for x in df['text']]\n",
    "\n",
    "count_value = 0\n",
    "\n",
    "for x in df['text']:\n",
    "    df.replace(x, cells[count_value], inplace = True)\n",
    "    count_value += 1"
   ]
  },
  {
   "cell_type": "code",
   "execution_count": 15,
   "metadata": {
    "colab": {
     "base_uri": "https://localhost:8080/",
     "height": 206
    },
    "executionInfo": {
     "elapsed": 20,
     "status": "ok",
     "timestamp": 1680011021853,
     "user": {
      "displayName": "TUAN NGUYEN",
      "userId": "18359140716316691622"
     },
     "user_tz": -480
    },
    "id": "Xut39lxHD40N",
    "outputId": "4cae969d-88f9-474b-955b-c931ff3c1d57"
   },
   "outputs": [
    {
     "data": {
      "text/html": [
       "<div>\n",
       "<style scoped>\n",
       "    .dataframe tbody tr th:only-of-type {\n",
       "        vertical-align: middle;\n",
       "    }\n",
       "\n",
       "    .dataframe tbody tr th {\n",
       "        vertical-align: top;\n",
       "    }\n",
       "\n",
       "    .dataframe thead th {\n",
       "        text-align: right;\n",
       "    }\n",
       "</style>\n",
       "<table border=\"1\" class=\"dataframe\">\n",
       "  <thead>\n",
       "    <tr style=\"text-align: right;\">\n",
       "      <th></th>\n",
       "      <th>text</th>\n",
       "      <th>sentiment</th>\n",
       "      <th>word_count</th>\n",
       "    </tr>\n",
       "  </thead>\n",
       "  <tbody>\n",
       "    <tr>\n",
       "      <th>0</th>\n",
       "      <td>daughter like aghast charact movi smoke isnt a...</td>\n",
       "      <td>1</td>\n",
       "      <td>142</td>\n",
       "    </tr>\n",
       "    <tr>\n",
       "      <th>1</th>\n",
       "      <td>word word describ tri sake brave peopl stick k...</td>\n",
       "      <td>1</td>\n",
       "      <td>325</td>\n",
       "    </tr>\n",
       "    <tr>\n",
       "      <th>2</th>\n",
       "      <td>film basic poor take old urban legend babysitt...</td>\n",
       "      <td>1</td>\n",
       "      <td>131</td>\n",
       "    </tr>\n",
       "    <tr>\n",
       "      <th>3</th>\n",
       "      <td>terribl movi im not even sure terribl ugli one...</td>\n",
       "      <td>1</td>\n",
       "      <td>156</td>\n",
       "    </tr>\n",
       "    <tr>\n",
       "      <th>4</th>\n",
       "      <td>first movi piec realiti well realiz artist kin...</td>\n",
       "      <td>2</td>\n",
       "      <td>173</td>\n",
       "    </tr>\n",
       "  </tbody>\n",
       "</table>\n",
       "</div>"
      ],
      "text/plain": [
       "                                                text  sentiment  word_count\n",
       "0  daughter like aghast charact movi smoke isnt a...          1         142\n",
       "1  word word describ tri sake brave peopl stick k...          1         325\n",
       "2  film basic poor take old urban legend babysitt...          1         131\n",
       "3  terribl movi im not even sure terribl ugli one...          1         156\n",
       "4  first movi piec realiti well realiz artist kin...          2         173"
      ]
     },
     "execution_count": 15,
     "metadata": {},
     "output_type": "execute_result"
    }
   ],
   "source": [
    "df.head()"
   ]
  },
  {
   "cell_type": "markdown",
   "metadata": {
    "id": "vvBIB9mLdxp7"
   },
   "source": [
    "# Create a CSV file for cleaned dataset"
   ]
  },
  {
   "cell_type": "code",
   "execution_count": 16,
   "metadata": {
    "id": "f5OKOfzZdedu"
   },
   "outputs": [],
   "source": [
    "filepath = Path('data/cleaned.csv')\n",
    "filepath.parent.mkdir(parents=True, exist_ok=True)  \n",
    "df.to_csv(filepath) "
   ]
  },
  {
   "cell_type": "code",
   "execution_count": null,
   "metadata": {
    "id": "PBwd0TFqdpKp"
   },
   "outputs": [],
   "source": []
  }
 ],
 "metadata": {
  "colab": {
   "provenance": []
  },
  "kernelspec": {
   "display_name": "Python 3 (ipykernel)",
   "language": "python",
   "name": "python3"
  },
  "language_info": {
   "codemirror_mode": {
    "name": "ipython",
    "version": 3
   },
   "file_extension": ".py",
   "mimetype": "text/x-python",
   "name": "python",
   "nbconvert_exporter": "python",
   "pygments_lexer": "ipython3",
   "version": "3.9.13"
  }
 },
 "nbformat": 4,
 "nbformat_minor": 1
}
